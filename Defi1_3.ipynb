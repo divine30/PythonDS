{
 "cells": [
  {
   "cell_type": "markdown",
   "metadata": {},
   "source": [
    "Defi1_3\n",
    "partie 1\n",
    "collecte de la données(data csv , data json)\n"
   ]
  },
  {
   "cell_type": "code",
   "execution_count": 1,
   "metadata": {},
   "outputs": [],
   "source": [
    "import csv \n",
    "import json \n",
    "from collections import defaultdict\n"
   ]
  },
  {
   "cell_type": "code",
   "execution_count": 21,
   "metadata": {},
   "outputs": [
    {
     "name": "stdout",
     "output_type": "stream",
     "text": [
      "{'date': {'0': '10/02/20', '1': '20/03/20', '2': '15/04/20', '3': '19/04/20', '4': '17/05/20'}, 'depenses': {'0': 120, '1': 150, '2': 50, '3': 210, '4': 167}} <class 'dict'>\n"
     ]
    }
   ],
   "source": [
    "with open(\"data.json\") as filedata:\n",
    "    data_json= json.load(filedata)\n",
    "print(data_json,type(data_json))\n",
    "    "
   ]
  },
  {
   "cell_type": "code",
   "execution_count": 22,
   "metadata": {},
   "outputs": [
    {
     "name": "stdout",
     "output_type": "stream",
     "text": [
      "[('10/02/20', 120, 'json_list'), ('20/03/20', 150, 'json_list'), ('15/04/20', 50, 'json_list'), ('19/04/20', 210, 'json_list'), ('17/05/20', 167, 'json_list')] <class 'list'>\n"
     ]
    }
   ],
   "source": [
    "def to_tuple(data,monliste):\n",
    "    result = []\n",
    "    for i in range(len(data[\"date\"])):\n",
    "        result.append((data[\"date\"][str(i)],data[\"depenses\"][str(i)], monliste))\n",
    "    return result\n",
    "data_json= to_tuple(data_json,\"json_list\")\n",
    "print(data_json,type(data_json))"
   ]
  },
  {
   "cell_type": "code",
   "execution_count": 24,
   "metadata": {},
   "outputs": [
    {
     "name": "stdout",
     "output_type": "stream",
     "text": [
      "defaultdict(<class 'dict'>, {'date': {'0': '10/02/20', '1': '20/03/20', '2': '15/04/20', '3': '19/04/20', '4': '17/05/20'}, 'depenses': {'0': 120, '1': 150, '2': 50, '3': 210, '4': 167}})\n",
      "[('10/02/20', 120, 'csv_list'), ('20/03/20', 150, 'csv_list'), ('15/04/20', 50, 'csv_list'), ('19/04/20', 210, 'csv_list'), ('17/05/20', 167, 'csv_list')]\n"
     ]
    }
   ],
   "source": [
    "with open(\"data.csv\") as filecsv:\n",
    "    data_dr = csv.DictReader(filecsv)\n",
    "    data_csv = defaultdict(dict)\n",
    "    for i,elt in enumerate(data_dr):\n",
    "        data_csv[\"date\"][str(i)] = elt[\"date\"]\n",
    "        data_csv[\"depenses\"][str(i)] = int(elt[\"depenses\"])\n",
    "print(data_csv)\n",
    "data_csv=to_tuple(data_csv,\"csv_list\")\n",
    "print(data_csv)\n",
    "        \n",
    "        "
   ]
  },
  {
   "cell_type": "markdown",
   "metadata": {},
   "source": [
    "## partie concatenation"
   ]
  },
  {
   "cell_type": "code",
   "execution_count": 30,
   "metadata": {},
   "outputs": [
    {
     "name": "stdout",
     "output_type": "stream",
     "text": [
      "[('10/02/20', 120, 'json_list'), ('20/03/20', 150, 'json_list'), ('15/04/20', 50, 'json_list'), ('19/04/20', 210, 'json_list'), ('17/05/20', 167, 'json_list'), ('10/02/20', 120, 'csv_list'), ('20/03/20', 150, 'csv_list'), ('15/04/20', 50, 'csv_list'), ('19/04/20', 210, 'csv_list'), ('17/05/20', 167, 'csv_list')]\n"
     ]
    }
   ],
   "source": [
    "result = []\n",
    "result.extend(data_json)\n",
    "result.extend(data_csv)\n",
    "print(result)"
   ]
  },
  {
   "cell_type": "markdown",
   "metadata": {},
   "source": [
    "2 - Stockage des résultats\n",
    "\n",
    "Créer un fichier JSON avec l'ensemble des données\n",
    "Créer un fichier CSV avec l'ensemble des donnée"
   ]
  },
  {
   "cell_type": "markdown",
   "metadata": {},
   "source": [
    "# partie json"
   ]
  },
  {
   "cell_type": "code",
   "execution_count": 26,
   "metadata": {},
   "outputs": [],
   "source": [
    "with open(\"result_json.json\",\"w\") as filejson:\n",
    "    json.dump(result,filejson,indent=6)"
   ]
  },
  {
   "cell_type": "code",
   "execution_count": 37,
   "metadata": {},
   "outputs": [],
   "source": [
    "with open(\"result_csv.csv\", \"w\", newline=\"\") as csv_file:\n",
    "    writer = csv.writer(csv_file)\n",
    "    writer.writerow([\"date\", \"depenses\", \"origine\"])\n",
    "    for elt in result:\n",
    "        writer.writerow(elt)"
   ]
  },
  {
   "cell_type": "markdown",
   "metadata": {},
   "source": [
    "3 - Présentation des résultats\n",
    "\n",
    "Créer un compte Github (si vous ne l'avez pas déjà fait) -> lien vers Github\n",
    "Créer un repository pour les notebooks des exercices de ce module\n",
    "Créer une version web de votre notebook (statique ou interactive)3 - Présentation des résultats\n",
    "\n",
    "Créer un compte Github (si vous ne l'avez pas déjà fait) -> lien vers Github\n",
    "Créer un repository pour les notebooks des exercices de ce module\n",
    "Créer une version web de votre notebook (statique ou interactive)"
   ]
  },
  {
   "cell_type": "code",
   "execution_count": null,
   "metadata": {},
   "outputs": [],
   "source": []
  },
  {
   "cell_type": "code",
   "execution_count": null,
   "metadata": {},
   "outputs": [],
   "source": []
  }
 ],
 "metadata": {
  "kernelspec": {
   "display_name": "Python 3",
   "language": "python",
   "name": "python3"
  },
  "language_info": {
   "codemirror_mode": {
    "name": "ipython",
    "version": 3
   },
   "file_extension": ".py",
   "mimetype": "text/x-python",
   "name": "python",
   "nbconvert_exporter": "python",
   "pygments_lexer": "ipython3",
   "version": "3.8.5"
  }
 },
 "nbformat": 4,
 "nbformat_minor": 4
}
